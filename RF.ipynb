{
 "cells": [
  {
   "cell_type": "markdown",
   "metadata": {},
   "source": [
    "# Random Forest"
   ]
  },
  {
   "cell_type": "code",
   "execution_count": 75,
   "metadata": {},
   "outputs": [],
   "source": [
    "#to process data\n",
    "import numpy as np\n",
    "import pandas as pd\n",
    "from sklearn.preprocessing import StandardScaler, MinMaxScaler\n",
    "from sklearn.model_selection import train_test_split\n",
    "import time\n",
    "import matplotlib.pyplot as plt\n",
    "import seaborn as sns\n",
    "\n",
    "np.random.seed(42)"
   ]
  },
  {
   "cell_type": "code",
   "execution_count": 76,
   "metadata": {},
   "outputs": [],
   "source": [
    "#import data and convert bool features to numerical\n",
    "bool_converter = lambda x: 1 if x == 't' else 0\n",
    "train_df = pd.read_csv(\n",
    "    \"train.csv\",\n",
    "    converters={\n",
    "        'Host_is_superhost':bool_converter,\n",
    "        'Host_has_profile_pic': bool_converter,\n",
    "        'Host_identity_verified':bool_converter,\n",
    "        'Instant_bookable':bool_converter\n",
    "    },\n",
    ")\n",
    "\n",
    "test_df = pd.read_csv(\n",
    "    \"test.csv\",\n",
    "    converters={\n",
    "        'Host_is_superhost':bool_converter,\n",
    "        'Host_has_profile_pic': bool_converter,\n",
    "        'Host_identity_verified':bool_converter,\n",
    "        'Instant_bookable':bool_converter\n",
    "    }\n",
    ")"
   ]
  },
  {
   "cell_type": "code",
   "execution_count": 77,
   "metadata": {},
   "outputs": [],
   "source": [
    "#We drop 4 features in total: 'Bedrooms', 'Beds','Month''Host_has_profile_pic'\n",
    "train_df = train_df.drop(columns = ['Bedrooms', 'Beds','Month','Host_has_profile_pic'])\n",
    "test_df = test_df.drop(columns = ['Bedrooms', 'Beds','Month','Host_has_profile_pic'])"
   ]
  },
  {
   "cell_type": "code",
   "execution_count": 78,
   "metadata": {},
   "outputs": [],
   "source": [
    "columns = ['id', 'Decision', 'Host_response_time',\n",
    "           'Host_is_superhost', 'Host_has_profile_pic', 'Host_identity_verified','Neighbourhood',\n",
    "           'Property_type', 'Room_type', 'Accommodates','Bathrooms_text',\n",
    "           'Bedrooms', 'Beds',\n",
    "           'Essentials', 'Cooking',\n",
    "           'Balcony', 'Parking',\n",
    "           'Price',\n",
    "           'Number_of_reviews',\n",
    "           'Review_scores_rating',\n",
    "           'Instant_bookable',\n",
    "           'Month']\n",
    "#we can split features like below:\n",
    "categorical = ['Neighbourhood', 'Host_response_time','Property_type', 'Room_type','Bathrooms_text']\n",
    "continuous = ['Accommodates','Balcony', 'Parking','Essentials', 'Cooking',\n",
    "              'Price','Review_scores_rating','Number_of_reviews']\n",
    "binary = ['Host_is_superhost', 'Host_identity_verified','Instant_bookable']"
   ]
  },
  {
   "cell_type": "code",
   "execution_count": 79,
   "metadata": {},
   "outputs": [
    {
     "data": {
      "text/plain": [
       "id                          0\n",
       "Decision                    0\n",
       "Host_response_time        858\n",
       "Host_is_superhost           0\n",
       "Host_identity_verified      0\n",
       "Neighbourhood               0\n",
       "Property_type               0\n",
       "Room_type                   0\n",
       "Accommodates                0\n",
       "Bathrooms_text              0\n",
       "Essentials                  0\n",
       "Cooking                     0\n",
       "Balcony                     0\n",
       "Parking                     0\n",
       "Price                       0\n",
       "Number_of_reviews           0\n",
       "Review_scores_rating      395\n",
       "Instant_bookable            0\n",
       "dtype: int64"
      ]
     },
     "execution_count": 79,
     "metadata": {},
     "output_type": "execute_result"
    }
   ],
   "source": [
    "#fill nan values\n",
    "train_df.isna().sum()"
   ]
  },
  {
   "cell_type": "code",
   "execution_count": 80,
   "metadata": {},
   "outputs": [
    {
     "data": {
      "text/plain": [
       "id                          0\n",
       "Host_response_time        293\n",
       "Host_is_superhost           0\n",
       "Host_identity_verified      0\n",
       "Neighbourhood               0\n",
       "Property_type               0\n",
       "Room_type                   0\n",
       "Accommodates                0\n",
       "Bathrooms_text              0\n",
       "Essentials                  0\n",
       "Cooking                     0\n",
       "Balcony                     0\n",
       "Parking                     0\n",
       "Price                       0\n",
       "Number_of_reviews           0\n",
       "Review_scores_rating      274\n",
       "Instant_bookable            0\n",
       "dtype: int64"
      ]
     },
     "execution_count": 80,
     "metadata": {},
     "output_type": "execute_result"
    }
   ],
   "source": [
    "test_df.isna().sum()"
   ]
  },
  {
   "cell_type": "code",
   "execution_count": 81,
   "metadata": {},
   "outputs": [],
   "source": [
    "train_df[\"Host_response_time\"] = train_df[\"Host_response_time\"].fillna(value=\"missing\") \n",
    "test_df[\"Host_response_time\"] = test_df[\"Host_response_time\"].fillna(value=\"missing\")"
   ]
  },
  {
   "cell_type": "code",
   "execution_count": 82,
   "metadata": {},
   "outputs": [
    {
     "data": {
      "text/plain": [
       "4.93"
      ]
     },
     "execution_count": 82,
     "metadata": {},
     "output_type": "execute_result"
    }
   ],
   "source": [
    "#still have a feature with nan values: fill it with median\n",
    "train_df[\"Review_scores_rating\"].median()"
   ]
  },
  {
   "cell_type": "code",
   "execution_count": 83,
   "metadata": {},
   "outputs": [],
   "source": [
    "train_df[\"Review_scores_rating\"] = train_df[\"Review_scores_rating\"].fillna(value=4.93) #median\n",
    "test_df[\"Review_scores_rating\"] = test_df[\"Review_scores_rating\"].fillna(value=4.93)"
   ]
  },
  {
   "cell_type": "code",
   "execution_count": 84,
   "metadata": {},
   "outputs": [],
   "source": [
    "#price features: str to numerical\n",
    "train_df['Price'] = train_df['Price'].replace({'\\$':'',',':''},regex = True)\n",
    "train_df['Price'] = train_df['Price'].astype('float')\n",
    "\n",
    "test_df['Price'] = test_df['Price'].replace({'\\$':'',',':''},regex = True)\n",
    "test_df['Price'] = test_df['Price'].astype('float')\n"
   ]
  },
  {
   "cell_type": "code",
   "execution_count": 85,
   "metadata": {},
   "outputs": [],
   "source": [
    "# continuous features require normalization\n",
    "# normalize the continuous features to zero mean and unit variancee\n",
    "scaler = StandardScaler()\n",
    "scaler.fit(train_df[continuous])\n",
    "train_df[continuous] = scaler.transform(train_df[continuous])\n",
    "test_df[continuous] = scaler.transform(test_df[continuous])"
   ]
  },
  {
   "cell_type": "code",
   "execution_count": 86,
   "metadata": {},
   "outputs": [],
   "source": [
    "#split labels and features\n",
    "y_train_full = train_df['Decision']\n",
    "X_train_full = train_df.drop(['Decision'], axis=1)"
   ]
  },
  {
   "cell_type": "code",
   "execution_count": 87,
   "metadata": {},
   "outputs": [],
   "source": [
    "# convert categorical features to one-hot representations\n",
    "len_train = len(X_train_full)\n",
    "\n",
    "total_X = X_train_full.append(test_df, ignore_index=True)\n",
    "one_hot_X = pd.get_dummies(total_X, columns=categorical)\n",
    "#split train and test dataset\n",
    "X_test = one_hot_X[len_train:]\n",
    "X_train_full = one_hot_X[:len_train]"
   ]
  },
  {
   "cell_type": "code",
   "execution_count": 88,
   "metadata": {},
   "outputs": [
    {
     "data": {
      "text/html": [
       "<div>\n",
       "<style scoped>\n",
       "    .dataframe tbody tr th:only-of-type {\n",
       "        vertical-align: middle;\n",
       "    }\n",
       "\n",
       "    .dataframe tbody tr th {\n",
       "        vertical-align: top;\n",
       "    }\n",
       "\n",
       "    .dataframe thead th {\n",
       "        text-align: right;\n",
       "    }\n",
       "</style>\n",
       "<table border=\"1\" class=\"dataframe\">\n",
       "  <thead>\n",
       "    <tr style=\"text-align: right;\">\n",
       "      <th></th>\n",
       "      <th>id</th>\n",
       "      <th>Host_is_superhost</th>\n",
       "      <th>Host_identity_verified</th>\n",
       "      <th>Accommodates</th>\n",
       "      <th>Essentials</th>\n",
       "      <th>Cooking</th>\n",
       "      <th>Balcony</th>\n",
       "      <th>Parking</th>\n",
       "      <th>Price</th>\n",
       "      <th>Number_of_reviews</th>\n",
       "      <th>...</th>\n",
       "      <th>Bathrooms_text_4.5 baths</th>\n",
       "      <th>Bathrooms_text_5 baths</th>\n",
       "      <th>Bathrooms_text_5.5 baths</th>\n",
       "      <th>Bathrooms_text_6 baths</th>\n",
       "      <th>Bathrooms_text_6.5 baths</th>\n",
       "      <th>Bathrooms_text_7 baths</th>\n",
       "      <th>Bathrooms_text_7.5 baths</th>\n",
       "      <th>Bathrooms_text_9 baths</th>\n",
       "      <th>Bathrooms_text_Half-bath</th>\n",
       "      <th>Bathrooms_text_Private half-bath</th>\n",
       "    </tr>\n",
       "  </thead>\n",
       "  <tbody>\n",
       "    <tr>\n",
       "      <th>7471</th>\n",
       "      <td>1</td>\n",
       "      <td>1</td>\n",
       "      <td>1</td>\n",
       "      <td>-1.192110</td>\n",
       "      <td>-1.171512</td>\n",
       "      <td>-0.385235</td>\n",
       "      <td>0.763000</td>\n",
       "      <td>0.208063</td>\n",
       "      <td>-0.724997</td>\n",
       "      <td>0.462257</td>\n",
       "      <td>...</td>\n",
       "      <td>0</td>\n",
       "      <td>0</td>\n",
       "      <td>0</td>\n",
       "      <td>0</td>\n",
       "      <td>0</td>\n",
       "      <td>0</td>\n",
       "      <td>0</td>\n",
       "      <td>0</td>\n",
       "      <td>0</td>\n",
       "      <td>0</td>\n",
       "    </tr>\n",
       "    <tr>\n",
       "      <th>7472</th>\n",
       "      <td>2</td>\n",
       "      <td>1</td>\n",
       "      <td>1</td>\n",
       "      <td>-0.830126</td>\n",
       "      <td>0.447498</td>\n",
       "      <td>0.843931</td>\n",
       "      <td>0.763000</td>\n",
       "      <td>0.208063</td>\n",
       "      <td>-0.621800</td>\n",
       "      <td>4.532375</td>\n",
       "      <td>...</td>\n",
       "      <td>0</td>\n",
       "      <td>0</td>\n",
       "      <td>0</td>\n",
       "      <td>0</td>\n",
       "      <td>0</td>\n",
       "      <td>0</td>\n",
       "      <td>0</td>\n",
       "      <td>0</td>\n",
       "      <td>0</td>\n",
       "      <td>0</td>\n",
       "    </tr>\n",
       "    <tr>\n",
       "      <th>7473</th>\n",
       "      <td>3</td>\n",
       "      <td>1</td>\n",
       "      <td>1</td>\n",
       "      <td>-0.830126</td>\n",
       "      <td>0.447498</td>\n",
       "      <td>0.843931</td>\n",
       "      <td>0.763000</td>\n",
       "      <td>0.208063</td>\n",
       "      <td>-0.621800</td>\n",
       "      <td>4.691072</td>\n",
       "      <td>...</td>\n",
       "      <td>0</td>\n",
       "      <td>0</td>\n",
       "      <td>0</td>\n",
       "      <td>0</td>\n",
       "      <td>0</td>\n",
       "      <td>0</td>\n",
       "      <td>0</td>\n",
       "      <td>0</td>\n",
       "      <td>0</td>\n",
       "      <td>0</td>\n",
       "    </tr>\n",
       "    <tr>\n",
       "      <th>7474</th>\n",
       "      <td>4</td>\n",
       "      <td>1</td>\n",
       "      <td>1</td>\n",
       "      <td>-0.830126</td>\n",
       "      <td>0.447498</td>\n",
       "      <td>0.843931</td>\n",
       "      <td>0.763000</td>\n",
       "      <td>0.208063</td>\n",
       "      <td>-0.621800</td>\n",
       "      <td>4.784424</td>\n",
       "      <td>...</td>\n",
       "      <td>0</td>\n",
       "      <td>0</td>\n",
       "      <td>0</td>\n",
       "      <td>0</td>\n",
       "      <td>0</td>\n",
       "      <td>0</td>\n",
       "      <td>0</td>\n",
       "      <td>0</td>\n",
       "      <td>0</td>\n",
       "      <td>0</td>\n",
       "    </tr>\n",
       "    <tr>\n",
       "      <th>7475</th>\n",
       "      <td>5</td>\n",
       "      <td>1</td>\n",
       "      <td>1</td>\n",
       "      <td>-0.830126</td>\n",
       "      <td>0.447498</td>\n",
       "      <td>0.843931</td>\n",
       "      <td>0.763000</td>\n",
       "      <td>0.208063</td>\n",
       "      <td>-0.621800</td>\n",
       "      <td>4.607056</td>\n",
       "      <td>...</td>\n",
       "      <td>0</td>\n",
       "      <td>0</td>\n",
       "      <td>0</td>\n",
       "      <td>0</td>\n",
       "      <td>0</td>\n",
       "      <td>0</td>\n",
       "      <td>0</td>\n",
       "      <td>0</td>\n",
       "      <td>0</td>\n",
       "      <td>0</td>\n",
       "    </tr>\n",
       "    <tr>\n",
       "      <th>...</th>\n",
       "      <td>...</td>\n",
       "      <td>...</td>\n",
       "      <td>...</td>\n",
       "      <td>...</td>\n",
       "      <td>...</td>\n",
       "      <td>...</td>\n",
       "      <td>...</td>\n",
       "      <td>...</td>\n",
       "      <td>...</td>\n",
       "      <td>...</td>\n",
       "      <td>...</td>\n",
       "      <td>...</td>\n",
       "      <td>...</td>\n",
       "      <td>...</td>\n",
       "      <td>...</td>\n",
       "      <td>...</td>\n",
       "      <td>...</td>\n",
       "      <td>...</td>\n",
       "      <td>...</td>\n",
       "      <td>...</td>\n",
       "      <td>...</td>\n",
       "    </tr>\n",
       "    <tr>\n",
       "      <th>9906</th>\n",
       "      <td>2436</td>\n",
       "      <td>0</td>\n",
       "      <td>0</td>\n",
       "      <td>0.617810</td>\n",
       "      <td>-6.028541</td>\n",
       "      <td>-2.228985</td>\n",
       "      <td>-1.310616</td>\n",
       "      <td>0.208063</td>\n",
       "      <td>-0.398208</td>\n",
       "      <td>-0.816656</td>\n",
       "      <td>...</td>\n",
       "      <td>0</td>\n",
       "      <td>0</td>\n",
       "      <td>0</td>\n",
       "      <td>0</td>\n",
       "      <td>0</td>\n",
       "      <td>0</td>\n",
       "      <td>0</td>\n",
       "      <td>0</td>\n",
       "      <td>0</td>\n",
       "      <td>0</td>\n",
       "    </tr>\n",
       "    <tr>\n",
       "      <th>9907</th>\n",
       "      <td>2437</td>\n",
       "      <td>1</td>\n",
       "      <td>1</td>\n",
       "      <td>1.703762</td>\n",
       "      <td>0.447498</td>\n",
       "      <td>0.843931</td>\n",
       "      <td>0.763000</td>\n",
       "      <td>0.208063</td>\n",
       "      <td>-0.352343</td>\n",
       "      <td>-0.816656</td>\n",
       "      <td>...</td>\n",
       "      <td>0</td>\n",
       "      <td>0</td>\n",
       "      <td>0</td>\n",
       "      <td>0</td>\n",
       "      <td>0</td>\n",
       "      <td>0</td>\n",
       "      <td>0</td>\n",
       "      <td>0</td>\n",
       "      <td>0</td>\n",
       "      <td>0</td>\n",
       "    </tr>\n",
       "    <tr>\n",
       "      <th>9908</th>\n",
       "      <td>2438</td>\n",
       "      <td>1</td>\n",
       "      <td>1</td>\n",
       "      <td>3.513681</td>\n",
       "      <td>-1.171512</td>\n",
       "      <td>-1.614402</td>\n",
       "      <td>-1.310616</td>\n",
       "      <td>0.208063</td>\n",
       "      <td>2.846753</td>\n",
       "      <td>-0.816656</td>\n",
       "      <td>...</td>\n",
       "      <td>0</td>\n",
       "      <td>0</td>\n",
       "      <td>0</td>\n",
       "      <td>0</td>\n",
       "      <td>0</td>\n",
       "      <td>0</td>\n",
       "      <td>0</td>\n",
       "      <td>0</td>\n",
       "      <td>0</td>\n",
       "      <td>0</td>\n",
       "    </tr>\n",
       "    <tr>\n",
       "      <th>9909</th>\n",
       "      <td>2439</td>\n",
       "      <td>1</td>\n",
       "      <td>1</td>\n",
       "      <td>-0.830126</td>\n",
       "      <td>0.447498</td>\n",
       "      <td>-0.999819</td>\n",
       "      <td>-1.310616</td>\n",
       "      <td>0.208063</td>\n",
       "      <td>-0.747930</td>\n",
       "      <td>-0.816656</td>\n",
       "      <td>...</td>\n",
       "      <td>0</td>\n",
       "      <td>0</td>\n",
       "      <td>0</td>\n",
       "      <td>0</td>\n",
       "      <td>0</td>\n",
       "      <td>0</td>\n",
       "      <td>0</td>\n",
       "      <td>0</td>\n",
       "      <td>0</td>\n",
       "      <td>0</td>\n",
       "    </tr>\n",
       "    <tr>\n",
       "      <th>9910</th>\n",
       "      <td>2440</td>\n",
       "      <td>1</td>\n",
       "      <td>1</td>\n",
       "      <td>-0.830126</td>\n",
       "      <td>-1.171512</td>\n",
       "      <td>-1.614402</td>\n",
       "      <td>-1.310616</td>\n",
       "      <td>0.208063</td>\n",
       "      <td>-0.306477</td>\n",
       "      <td>-0.816656</td>\n",
       "      <td>...</td>\n",
       "      <td>0</td>\n",
       "      <td>0</td>\n",
       "      <td>0</td>\n",
       "      <td>0</td>\n",
       "      <td>0</td>\n",
       "      <td>0</td>\n",
       "      <td>0</td>\n",
       "      <td>0</td>\n",
       "      <td>0</td>\n",
       "      <td>0</td>\n",
       "    </tr>\n",
       "  </tbody>\n",
       "</table>\n",
       "<p>2440 rows × 111 columns</p>\n",
       "</div>"
      ],
      "text/plain": [
       "        id  Host_is_superhost  Host_identity_verified  Accommodates  \\\n",
       "7471     1                  1                       1     -1.192110   \n",
       "7472     2                  1                       1     -0.830126   \n",
       "7473     3                  1                       1     -0.830126   \n",
       "7474     4                  1                       1     -0.830126   \n",
       "7475     5                  1                       1     -0.830126   \n",
       "...    ...                ...                     ...           ...   \n",
       "9906  2436                  0                       0      0.617810   \n",
       "9907  2437                  1                       1      1.703762   \n",
       "9908  2438                  1                       1      3.513681   \n",
       "9909  2439                  1                       1     -0.830126   \n",
       "9910  2440                  1                       1     -0.830126   \n",
       "\n",
       "      Essentials   Cooking   Balcony   Parking     Price  Number_of_reviews  \\\n",
       "7471   -1.171512 -0.385235  0.763000  0.208063 -0.724997           0.462257   \n",
       "7472    0.447498  0.843931  0.763000  0.208063 -0.621800           4.532375   \n",
       "7473    0.447498  0.843931  0.763000  0.208063 -0.621800           4.691072   \n",
       "7474    0.447498  0.843931  0.763000  0.208063 -0.621800           4.784424   \n",
       "7475    0.447498  0.843931  0.763000  0.208063 -0.621800           4.607056   \n",
       "...          ...       ...       ...       ...       ...                ...   \n",
       "9906   -6.028541 -2.228985 -1.310616  0.208063 -0.398208          -0.816656   \n",
       "9907    0.447498  0.843931  0.763000  0.208063 -0.352343          -0.816656   \n",
       "9908   -1.171512 -1.614402 -1.310616  0.208063  2.846753          -0.816656   \n",
       "9909    0.447498 -0.999819 -1.310616  0.208063 -0.747930          -0.816656   \n",
       "9910   -1.171512 -1.614402 -1.310616  0.208063 -0.306477          -0.816656   \n",
       "\n",
       "      ...  Bathrooms_text_4.5 baths  Bathrooms_text_5 baths  \\\n",
       "7471  ...                         0                       0   \n",
       "7472  ...                         0                       0   \n",
       "7473  ...                         0                       0   \n",
       "7474  ...                         0                       0   \n",
       "7475  ...                         0                       0   \n",
       "...   ...                       ...                     ...   \n",
       "9906  ...                         0                       0   \n",
       "9907  ...                         0                       0   \n",
       "9908  ...                         0                       0   \n",
       "9909  ...                         0                       0   \n",
       "9910  ...                         0                       0   \n",
       "\n",
       "      Bathrooms_text_5.5 baths  Bathrooms_text_6 baths  \\\n",
       "7471                         0                       0   \n",
       "7472                         0                       0   \n",
       "7473                         0                       0   \n",
       "7474                         0                       0   \n",
       "7475                         0                       0   \n",
       "...                        ...                     ...   \n",
       "9906                         0                       0   \n",
       "9907                         0                       0   \n",
       "9908                         0                       0   \n",
       "9909                         0                       0   \n",
       "9910                         0                       0   \n",
       "\n",
       "      Bathrooms_text_6.5 baths  Bathrooms_text_7 baths  \\\n",
       "7471                         0                       0   \n",
       "7472                         0                       0   \n",
       "7473                         0                       0   \n",
       "7474                         0                       0   \n",
       "7475                         0                       0   \n",
       "...                        ...                     ...   \n",
       "9906                         0                       0   \n",
       "9907                         0                       0   \n",
       "9908                         0                       0   \n",
       "9909                         0                       0   \n",
       "9910                         0                       0   \n",
       "\n",
       "      Bathrooms_text_7.5 baths  Bathrooms_text_9 baths  \\\n",
       "7471                         0                       0   \n",
       "7472                         0                       0   \n",
       "7473                         0                       0   \n",
       "7474                         0                       0   \n",
       "7475                         0                       0   \n",
       "...                        ...                     ...   \n",
       "9906                         0                       0   \n",
       "9907                         0                       0   \n",
       "9908                         0                       0   \n",
       "9909                         0                       0   \n",
       "9910                         0                       0   \n",
       "\n",
       "      Bathrooms_text_Half-bath  Bathrooms_text_Private half-bath  \n",
       "7471                         0                                 0  \n",
       "7472                         0                                 0  \n",
       "7473                         0                                 0  \n",
       "7474                         0                                 0  \n",
       "7475                         0                                 0  \n",
       "...                        ...                               ...  \n",
       "9906                         0                                 0  \n",
       "9907                         0                                 0  \n",
       "9908                         0                                 0  \n",
       "9909                         0                                 0  \n",
       "9910                         0                                 0  \n",
       "\n",
       "[2440 rows x 111 columns]"
      ]
     },
     "execution_count": 88,
     "metadata": {},
     "output_type": "execute_result"
    }
   ],
   "source": [
    "X_test"
   ]
  },
  {
   "cell_type": "code",
   "execution_count": 89,
   "metadata": {},
   "outputs": [],
   "source": [
    "X_train_full = X_train_full.drop(['id'], axis=1)\n",
    "test_index =X_test['id']\n",
    "#ids = ids.astype(np.int64)\n",
    "X_test = X_test.drop(['id'], axis=1)"
   ]
  },
  {
   "cell_type": "code",
   "execution_count": 90,
   "metadata": {},
   "outputs": [],
   "source": [
    "#split validation set\n",
    "X_train, X_val, y_train, y_val = train_test_split(X_train_full, y_train_full, test_size=0.1, random_state=42)"
   ]
  },
  {
   "cell_type": "markdown",
   "metadata": {},
   "source": [
    "### random forest"
   ]
  },
  {
   "cell_type": "code",
   "execution_count": 91,
   "metadata": {},
   "outputs": [],
   "source": [
    "from sklearn.ensemble import RandomForestClassifier\n",
    "from sklearn.model_selection import GridSearchCV"
   ]
  },
  {
   "cell_type": "code",
   "execution_count": 92,
   "metadata": {},
   "outputs": [
    {
     "name": "stdout",
     "output_type": "stream",
     "text": [
      "{'max_depth': 23}\n",
      "0.798420552274668\n"
     ]
    }
   ],
   "source": [
    "#hyperparameter selection\n",
    "param_test1 = {\n",
    " 'max_depth':range(3,40,2)\n",
    "}\n",
    "gsearch1 = GridSearchCV(estimator = RandomForestClassifier(n_estimators = 1100,random_state=42),\n",
    " param_grid = param_test1, scoring='accuracy',n_jobs=4,cv=3)\n",
    "gsearch1.fit(X_train_full, y_train_full)\n",
    "print(gsearch1.best_params_)\n",
    "print(gsearch1.best_score_)"
   ]
  },
  {
   "cell_type": "code",
   "execution_count": 97,
   "metadata": {},
   "outputs": [
    {
     "data": {
      "image/png": "[encoded data removed]",
      "text/plain": [
       "<Figure size 432x288 with 1 Axes>"
      ]
     },
     "metadata": {},
     "output_type": "display_data"
    }
   ],
   "source": [
    "cv_results = gsearch1.cv_results_\n",
    "params = list(range(3, 40, 2))\n",
    "mean_test_score = cv_results[\"mean_test_score\"]\n",
    "std_test_score = cv_results[\"std_test_score\"]\n",
    "sns.set(font_scale = 1.25)\n",
    "ax = sns.lineplot(x=params, y=mean_test_score)\n",
    "ax.fill_between(params, y1=mean_test_score - std_test_score, y2=mean_test_score + std_test_score, alpha=.5)\n",
    "ax.set_xlabel(\"max depth\")\n",
    "ax.set_ylabel(\"accuracy\")\n",
    "plt.savefig(\"rf_depth.pdf\", bbox_inches=\"tight\")"
   ]
  },
  {
   "cell_type": "code",
   "execution_count": 95,
   "metadata": {},
   "outputs": [
    {
     "name": "stdout",
     "output_type": "stream",
     "text": [
      "{'n_estimators': 1100}\n",
      "0.798420552274668\n"
     ]
    }
   ],
   "source": [
    "#hyperparameter selection\n",
    "param_test2 = {\n",
    " 'n_estimators':[10, 50, 100, 500, 1000, 1100]\n",
    "}\n",
    "gsearch2 = GridSearchCV(estimator = RandomForestClassifier(max_depth=23,random_state=42),\n",
    " param_grid = param_test2, scoring='accuracy',n_jobs=4,cv=3)\n",
    "gsearch2.fit(X_train_full, y_train_full)\n",
    "print(gsearch2.best_params_)\n",
    "print(gsearch2.best_score_)"
   ]
  },
  {
   "cell_type": "code",
   "execution_count": 96,
   "metadata": {},
   "outputs": [
    {
     "data": {
      "image/png": "[encoded data removed]",
      "text/plain": [
       "<Figure size 432x288 with 1 Axes>"
      ]
     },
     "metadata": {},
     "output_type": "display_data"
    }
   ],
   "source": [
    "cv_results = gsearch2.cv_results_\n",
    "params = [10, 50, 100, 500, 1000, 1100]\n",
    "mean_test_score = cv_results[\"mean_test_score\"]\n",
    "std_test_score = cv_results[\"std_test_score\"]\n",
    "sns.set(font_scale = 1.25)\n",
    "ax = sns.lineplot(x=params, y=mean_test_score)\n",
    "ax.fill_between(params, y1=mean_test_score - std_test_score, y2=mean_test_score + std_test_score, alpha=.5)\n",
    "ax.set_xlabel(\"#estimators\")\n",
    "ax.set_ylabel(\"accuracy\")\n",
    "plt.savefig(\"rf_num_estimators.pdf\", bbox_inches=\"tight\")"
   ]
  },
  {
   "cell_type": "code",
   "execution_count": 42,
   "metadata": {},
   "outputs": [
    {
     "name": "stdout",
     "output_type": "stream",
     "text": [
      "train acc: 0.8155\n"
     ]
    }
   ],
   "source": [
    "#score on validation dataset\n",
    "clf_rf = RandomForestClassifier(n_estimators = 1100, max_depth=23,random_state=42)\n",
    "clf_rf.fit(X_train,y_train)\n",
    "acc_train = clf_rf.score(X_val,y_val)\n",
    "print(\"train acc: {:.4f}\".format(acc_train))"
   ]
  },
  {
   "cell_type": "code",
   "execution_count": 98,
   "metadata": {},
   "outputs": [
    {
     "name": "stdout",
     "output_type": "stream",
     "text": [
      "train acc: 0.9653\n",
      "training time: 11.82\n"
     ]
    }
   ],
   "source": [
    "#train on full train dataset\n",
    "clf_rf = RandomForestClassifier(n_estimators = 1100, max_depth=23,random_state=42)\n",
    "t_start = time.time()\n",
    "clf_rf.fit(X_train_full,y_train_full)\n",
    "t_end = time.time()\n",
    "acc_train = clf_rf.score(X_train_full,y_train_full)\n",
    "print(\"train acc: {:.4f}\".format(acc_train))\n",
    "print(\"training time: {:.2f}\".format(t_end - t_start))"
   ]
  },
  {
   "cell_type": "code",
   "execution_count": 101,
   "metadata": {},
   "outputs": [],
   "source": [
    "#do prefictiom\n",
    "preds = clf_rf.predict(X_test)\n",
    "results = pd.Series(preds, index=test_index)\n",
    "results.to_csv(\"results/rf_1209.csv\", header=['Decision'], index=True, index_label='id')"
   ]
  }
 ],
 "metadata": {
  "kernelspec": {
   "display_name": "Python 3",
   "language": "python",
   "name": "python3"
  },
  "language_info": {
   "codemirror_mode": {
    "name": "ipython",
    "version": 3
   },
   "file_extension": ".py",
   "mimetype": "text/x-python",
   "name": "python",
   "nbconvert_exporter": "python",
   "pygments_lexer": "ipython3",
   "version": "3.8.5"
  }
 },
 "nbformat": 4,
 "nbformat_minor": 4
}
